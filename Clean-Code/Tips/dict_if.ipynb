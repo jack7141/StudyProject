{
 "cells": [
  {
   "cell_type": "markdown",
   "id": "8a4f36d6",
   "metadata": {},
   "source": [
    "### dict으로 분기하고 인자 넘겨주기!"
   ]
  },
  {
   "cell_type": "markdown",
   "id": "8577df0e",
   "metadata": {},
   "source": [
    "##### 테스트용 함수 생성"
   ]
  },
  {
   "cell_type": "markdown",
   "id": "1281b353",
   "metadata": {},
   "source": [
    "def test(args):\n",
    "    print(f'args - {type(args)} value - {args}')"
   ]
  },
  {
   "cell_type": "markdown",
   "id": "5117f300",
   "metadata": {},
   "source": [
    "### 테스트용 분기 dict 생성 - Enum의 개념"
   ]
  },
  {
   "cell_type": "code",
   "execution_count": 13,
   "id": "ce9dca21",
   "metadata": {},
   "outputs": [],
   "source": [
    "test_dict =  {\n",
    "    'test' : test\n",
    "}"
   ]
  },
  {
   "cell_type": "markdown",
   "id": "95f20ab1",
   "metadata": {},
   "source": [
    "#### 키값을 넣어주고 -> ('test')(넣어주고싶은 인자!) 를 넣어주면 dict 분기 시 인자를 넘겨줄 수 있음"
   ]
  },
  {
   "cell_type": "code",
   "execution_count": 14,
   "id": "885b2382",
   "metadata": {},
   "outputs": [
    {
     "name": "stdout",
     "output_type": "stream",
     "text": [
      "args - <class 'int'> value - 1\n"
     ]
    }
   ],
   "source": [
    "test_dict.get('test')(1)"
   ]
  },
  {
   "cell_type": "code",
   "execution_count": 15,
   "id": "5e7bf982",
   "metadata": {},
   "outputs": [],
   "source": [
    "my_dict = {\n",
    "    'test' :1,\n",
    "    'test2' :1,\n",
    "    'test3' :1,\n",
    "    'test4' :1,\n",
    "    'test5' :1,\n",
    "}"
   ]
  },
  {
   "cell_type": "code",
   "execution_count": 16,
   "id": "9c2bdca7",
   "metadata": {},
   "outputs": [
    {
     "name": "stdout",
     "output_type": "stream",
     "text": [
      "args - <class 'dict'> value - {'test': 1, 'test2': 1, 'test3': 1, 'test4': 1, 'test5': 1}\n"
     ]
    }
   ],
   "source": [
    "test_dict.get('test')(my_dict)"
   ]
  }
 ],
 "metadata": {
  "kernelspec": {
   "display_name": "Python 3 (ipykernel)",
   "language": "python",
   "name": "python3"
  },
  "language_info": {
   "codemirror_mode": {
    "name": "ipython",
    "version": 3
   },
   "file_extension": ".py",
   "mimetype": "text/x-python",
   "name": "python",
   "nbconvert_exporter": "python",
   "pygments_lexer": "ipython3",
   "version": "3.10.0"
  }
 },
 "nbformat": 4,
 "nbformat_minor": 5
}
